{
 "cells": [
  {
   "cell_type": "markdown",
   "metadata": {
    "nbpresent": {
     "id": "22a71c17-0cc2-41a0-90b7-f78228371cb9"
    }
   },
   "source": [
    "# Markov Chain Monte Carlo (MCMC)"
   ]
  },
  {
   "cell_type": "markdown",
   "metadata": {
    "nbpresent": {
     "id": "af0dfab8-95b2-4e40-b6b2-e2747bafb5e6"
    }
   },
   "source": [
    "Рассмотрим граф $G=(V,E)$, вершинам которого случайным образом приписаны значения 0 и 1 так, что смежные вершины не могут одновременно иметь значение 1. Пример расстановки значений по вершинам графа показан на картинке ниже (черные вершины имеют значение 1, белые - 0):"
   ]
  },
  {
   "cell_type": "markdown",
   "metadata": {
    "nbpresent": {
     "id": "8d2bb2e4-177f-476d-8e65-940ba6703003"
    }
   },
   "source": [
    "![img](http://www.mathematik.uni-ulm.de/stochastik/lehre/ss06/markov/skript_engl/bild4.jpg)"
   ]
  },
  {
   "cell_type": "markdown",
   "metadata": {
    "nbpresent": {
     "id": "0f961cfe-a89f-4ad2-aa59-8934ce031346"
    }
   },
   "source": [
    "Как оценить, сколько в среднем закрашенных вершин будет иметь такой граф?\n",
    "\n",
    "Сформулируем задачу в математических терминах.\n",
    "\n",
    "Пусть $\\xi \\in \\{0,1\\}^{V}$ обозначает конфигурацию графа (расстановку 0 и 1 по вершинам). Назовем конфигурацию допустимой, если вершины, соединенные ребрами, не имеют одновременно значения 1. Пусть $Z_G$ - общее количество допустимых конфигураций. Зададим  распределение на множестве всех конфигураций:\n",
    "$$\\begin{equation*}\n",
    "\\mu(\\xi) = \n",
    " \\begin{cases}\n",
    "   \\frac{1}{Z_G}, &\\xi - \\text{допустимая конфигурация}\\\\\n",
    "   0, &\\text{иначе.}\n",
    " \\end{cases}\n",
    "\\end{equation*}$$\n",
    "Обозначим $n(\\xi)$ - число закрашенных вершин в конфигурации $\\xi$. Тогда\n",
    "$$\\begin{equation*}\n",
    "{\\rm E} n(\\xi) = \\sum_{x \\in \\{0,1\\}^V} n(x) \\mu(x) = \\frac{1}{Z_G} \\sum_{x \\in \\{0,1\\}^V} n(x) {\\rm I}_{\\{\\xi - \\text{допустимая} \\}}\n",
    "\\end{equation*}$$\n",
    "\n",
    "Явно перебирать все $x \\in \\{0,1\\}^{V}$ не представляется возможным. Мы могли бы попробовать оценить ${\\rm E} n(\\xi)$, используя закон больших чилел:\n",
    "$$\\begin{equation*}\n",
    "{\\rm E} n(\\xi) \\approx \\frac{1}{N} \\sum_{i=1}^{N} n(\\xi), \\text{где} \\xi \\sim \\mu\n",
    "\\end{equation*}$$\n",
    "Но есть проблема: как смоделировать случайную величину из распределения $\\mu$?\n",
    "\n",
    "В этом нам поможет метод MCMC."
   ]
  },
  {
   "cell_type": "markdown",
   "metadata": {
    "nbpresent": {
     "id": "59054f27-3d88-4ce6-9a21-15118bc2357b"
    }
   },
   "source": [
    "## Метод MCMC\n",
    "\n",
    "Предназначение:приближенное моделирование случаных величин из заданного распредедения \n",
    "\n",
    "Идея:\n",
    "* построить эргодическую цепь Маркова, для которой стационарное распределение - это в точности наше заданное распределение\n",
    "\n",
    "* инициировать блеждание по цепи Маркова из некоторого начального состояния и дождаться, когда распределение сойдется в стационарному. С этого момента состояния цепи Маркова можно считать выборкой из желаемого распределения."
   ]
  },
  {
   "cell_type": "markdown",
   "metadata": {
    "nbpresent": {
     "id": "b1e787c0-6f39-4cf4-8b8a-cc7b79d80f0b"
    }
   },
   "source": [
    "Алгоритм:\n",
    "* пусть $\\pi$ - заданное распределение (не обязательно нормированное к 1) на множестве $\\Omega$\n",
    "* пусть $Q = (q_{i,j})$ - матрица переходных вероятностей произвольной цепи Маркова с состояниями из $\\Omega$\n",
    "* выберем произвольное $X_0$ из $\\Omega$\n",
    "* для текущего $X_n$ смоделируем значение $Z_{n+1}$ из распределения $q_{X_n, \\cdot}$\n",
    "* смоделируем случайную величину $\\alpha$ из распределения Бернулли с вероятностью успеха\n",
    "$$\n",
    "p = \\min ( 1, \\frac{\\pi_i q_{i,j}}{\\pi_j q_{j,i}} )\n",
    "$$\n",
    "* если $\\alpha$ = 1, то $X_{n+1} = Z_{n+1}$, иначе $X_{n+1} = X_{n}$."
   ]
  },
  {
   "cell_type": "markdown",
   "metadata": {
    "nbpresent": {
     "id": "8a3e9322-77a0-4926-8065-6087638122de"
    }
   },
   "source": [
    "Вот как это работает https://chi-feng.github.io/mcmc-demo/app.html#RandomWalkMH,multimodal"
   ]
  },
  {
   "cell_type": "markdown",
   "metadata": {
    "nbpresent": {
     "id": "94686901-bce2-46cd-b8ed-ad09963a347a"
    }
   },
   "source": [
    "Некоторые типичные способы задания $q$:\n",
    "* Metropolis algorithm: $q_{i,j} = q_{j,i}$\n",
    "* Random walk Metropolis-Hastings: $q_{i,j} = q(j - i)$\n",
    "* Independence sampler: $q_{i,j} = q(j)$ independent of $i$"
   ]
  },
  {
   "cell_type": "markdown",
   "metadata": {
    "nbpresent": {
     "id": "1d50c4e2-ca56-4a88-8add-b6cd25063c86"
    }
   },
   "source": [
    "## Задание\n",
    "1) Описать применение МСМС к задаче оценки  ${\\rm E} n(\\xi)$, доказать все попутные утверждения\n",
    "\n",
    "2) Оценить  ${\\rm E} n(\\xi)$ с помощью МСМС\n",
    "\n",
    "3) Построить график распределеиня $n(\\xi)$\n",
    "\n",
    "4) Реализовать генератор случайных графов с допустимыми конфигурациями."
   ]
  },
  {
   "cell_type": "code",
   "execution_count": 21,
   "metadata": {
    "nbpresent": {
     "id": "cf29fb05-c154-48c6-b0d7-54f6b6c40b84"
    }
   },
   "outputs": [],
   "source": [
    "import matplotlib.pyplot as plt\n",
    "import numpy as np\n",
    "from itertools import product\n",
    "\n",
    "def plot_grid(narr):\n",
    "    '''Plots 2d lattice with vertices colored in black and red according to given mask.\n",
    "    Vertice is colored black if narr[i, j] == True and red otherwise.\n",
    "    \n",
    "    Parameters\n",
    "    ----------\n",
    "    narr : 2d boolean ndarray\n",
    "        Mask for vertices colors\n",
    "    '''\n",
    "\n",
    "    if narr.dtype != 'bool':\n",
    "        raise ValueError('narr should be a boolean ndarray')\n",
    "    colors = np.empty(narr.shape, dtype='U5')\n",
    "    colors[:] = 'red'\n",
    "    colors[narr] = 'black'\n",
    "    x, y = np.indices((narr.shape))\n",
    "    plt.scatter(x, y, c=colors.ravel())\n",
    "    plt.show()"
   ]
  },
  {
   "cell_type": "code",
   "execution_count": 114,
   "metadata": {},
   "outputs": [],
   "source": [
    "def loop(v, arr, p):\n",
    "    a = int(np.random.rand() < p)\n",
    "    arr[v[0], v[1]] = False\n",
    "    if not a:\n",
    "        return arr\n",
    "    ind = [(v[0]-1,v[1]), (v[0]+1,v[1]), (v[0],v[1]-1),(v[0],v[1]+1)]\n",
    "    ind = np.array(list(filter(lambda x: (x[0]>=0)and(x[0]<arr.shape[0])and(x[1]>=0)and(x[1]<arr.shape[1]), ind)))\n",
    "    if np.all(arr[ind[:,0], ind[:,1]] == False):\n",
    "        arr[v[0], v[1]] = True\n",
    "    return arr"
   ]
  },
  {
   "cell_type": "code",
   "execution_count": 123,
   "metadata": {},
   "outputs": [],
   "source": [
    "dist = lambda x,y : (1+np.abs(x - y)) / 5 # так как pi и q зависят только от индексов имплементировать здесь"
   ]
  },
  {
   "cell_type": "code",
   "execution_count": 121,
   "metadata": {
    "nbpresent": {
     "id": "14cbae0c-e62a-4af4-add6-8e6efb8a8157"
    }
   },
   "outputs": [],
   "source": [
    "size = 5\n",
    "narr = np.random.choice([0, 1], size=size**2).reshape((size, size)).astype('bool')\n",
    "for i in range(100000):\n",
    "    v_x = int(np.random.rand()*size)\n",
    "    v_y = int(np.random.rand()*size)\n",
    "    v = v_x, v_y\n",
    "    narr = loop(v, narr, dist(v_x, v_y))"
   ]
  },
  {
   "cell_type": "code",
   "execution_count": 122,
   "metadata": {
    "nbpresent": {
     "id": "7063c128-3d74-4235-b146-418622211dda"
    }
   },
   "outputs": [
    {
     "name": "stdout",
     "output_type": "stream",
     "text": [
      "True\n"
     ]
    },
    {
     "data": {
      "image/png": "[encoded data removed]",
      "text/plain": [
       "<matplotlib.figure.Figure at 0x7f9ef3886ef0>"
      ]
     },
     "metadata": {},
     "output_type": "display_data"
    }
   ],
   "source": [
    "print(narr[0,0])\n",
    "plot_grid(narr)"
   ]
  },
  {
   "cell_type": "code",
   "execution_count": null,
   "metadata": {},
   "outputs": [],
   "source": []
  }
 ],
 "metadata": {
  "kernelspec": {
   "display_name": "Python [default]",
   "language": "python",
   "name": "python3"
  },
  "language_info": {
   "codemirror_mode": {
    "name": "ipython",
    "version": 3
   },
   "file_extension": ".py",
   "mimetype": "text/x-python",
   "name": "python",
   "nbconvert_exporter": "python",
   "pygments_lexer": "ipython3",
   "version": "3.6.3"
  },
  "nbpresent": {
   "slides": {
    "339b6795-df10-4bef-8468-390d500615b3": {
     "id": "339b6795-df10-4bef-8468-390d500615b3",
     "prev": "3ec79c3e-1fa6-4009-b86a-6ff83038bd48",
     "regions": {
      "c38c01f4-49cd-4d89-b308-db305d484d79": {
       "attrs": {
        "height": 0.8,
        "width": 0.8,
        "x": 0.1,
        "y": 0.1
       },
       "content": null,
       "id": "c38c01f4-49cd-4d89-b308-db305d484d79"
      }
     }
    },
    "3ec79c3e-1fa6-4009-b86a-6ff83038bd48": {
     "id": "3ec79c3e-1fa6-4009-b86a-6ff83038bd48",
     "prev": "47a16eed-8b49-4ef6-b7e2-3d2b2f598da4",
     "regions": {
      "d77dbdc1-8028-4279-8573-f12f2a90a267": {
       "attrs": {
        "height": 0.8,
        "width": 0.8,
        "x": 0.1,
        "y": 0.1
       },
       "content": {
        "cell": "1d50c4e2-ca56-4a88-8add-b6cd25063c86",
        "part": "whole"
       },
       "id": "d77dbdc1-8028-4279-8573-f12f2a90a267"
      }
     }
    },
    "47a16eed-8b49-4ef6-b7e2-3d2b2f598da4": {
     "id": "47a16eed-8b49-4ef6-b7e2-3d2b2f598da4",
     "prev": null,
     "regions": {
      "3856053e-4f50-4abb-809b-55f674a97263": {
       "attrs": {
        "height": 0.8,
        "width": 0.8,
        "x": 0.1,
        "y": 0.1
       },
       "content": {
        "cell": "94686901-bce2-46cd-b8ed-ad09963a347a",
        "part": "whole"
       },
       "id": "3856053e-4f50-4abb-809b-55f674a97263"
      }
     }
    },
    "69d88b53-958e-4632-9e34-e6c5815d627f": {
     "id": "69d88b53-958e-4632-9e34-e6c5815d627f",
     "prev": "339b6795-df10-4bef-8468-390d500615b3",
     "regions": {
      "8312ff5d-c7f9-4e72-aa4b-5cfa74c73988": {
       "attrs": {
        "height": 0.8,
        "width": 0.8,
        "x": 0.1,
        "y": 0.1
       },
       "content": {
        "cell": "cf29fb05-c154-48c6-b0d7-54f6b6c40b84",
        "part": "whole"
       },
       "id": "8312ff5d-c7f9-4e72-aa4b-5cfa74c73988"
      }
     }
    },
    "be6f76dd-b285-4eca-90bd-f84e5533fe9a": {
     "id": "be6f76dd-b285-4eca-90bd-f84e5533fe9a",
     "prev": "69d88b53-958e-4632-9e34-e6c5815d627f",
     "regions": {
      "2d2c4a12-5668-47aa-9d99-54fd5b3042d7": {
       "attrs": {
        "height": 0.8,
        "width": 0.8,
        "x": 0.1,
        "y": 0.1
       },
       "content": {
        "cell": "14cbae0c-e62a-4af4-add6-8e6efb8a8157",
        "part": "whole"
       },
       "id": "2d2c4a12-5668-47aa-9d99-54fd5b3042d7"
      }
     }
    }
   },
   "themes": {}
  }
 },
 "nbformat": 4,
 "nbformat_minor": 2
}
