{
 "cells": [
  {
   "cell_type": "markdown",
   "metadata": {},
   "source": [
    "# Библиотека Numpy"
   ]
  },
  {
   "cell_type": "code",
   "execution_count": 1,
   "metadata": {},
   "outputs": [
    {
     "name": "stdout",
     "output_type": "stream",
     "text": [
      "4.21 ms ± 74.1 µs per loop (mean ± std. dev. of 7 runs, 100 loops each)\n"
     ]
    }
   ],
   "source": [
    "L=range(10000)\n",
    "%timeit [i**2 for i in L]"
   ]
  },
  {
   "cell_type": "code",
   "execution_count": 2,
   "metadata": {},
   "outputs": [
    {
     "name": "stdout",
     "output_type": "stream",
     "text": [
      "22.1 µs ± 93.2 ns per loop (mean ± std. dev. of 7 runs, 10000 loops each)\n"
     ]
    }
   ],
   "source": [
    "import numpy as np\n",
    "L=np.arange(10000)\n",
    "%timeit L**2"
   ]
  },
  {
   "cell_type": "markdown",
   "metadata": {},
   "source": [
    "### Основной объект - однородный массив ndarray\n",
    "Его главные состовляющие:\n",
    "* data - указатель в памяти на начало массива\n",
    "* shape - размерности массива\n",
    "* dtype - тип элементов массива\n",
    "* stride - описание того, как считывать массив "
   ]
  },
  {
   "cell_type": "code",
   "execution_count": 3,
   "metadata": {},
   "outputs": [
    {
     "name": "stdout",
     "output_type": "stream",
     "text": [
      "<memory at 0x7f342809f558>\n",
      "(2, 5)\n",
      "int64\n",
      "(40, 8)\n"
     ]
    }
   ],
   "source": [
    "my_2d_array = np.arange(10).reshape((2, 5))\n",
    "\n",
    "# Print out memory address\n",
    "print(my_2d_array.data)\n",
    "\n",
    "# Print out the shape of `my_array`\n",
    "print(my_2d_array.shape)\n",
    "\n",
    "# Print out the data type of `my_array`\n",
    "print(my_2d_array.dtype)\n",
    "\n",
    "# Print out the stride of `my_array`\n",
    "print(my_2d_array.strides)"
   ]
  },
  {
   "cell_type": "markdown",
   "metadata": {},
   "source": [
    "### Способы задания массивов"
   ]
  },
  {
   "cell_type": "code",
   "execution_count": 4,
   "metadata": {},
   "outputs": [
    {
     "data": {
      "text/plain": [
       "array([[1, 0, 0],\n",
       "       [0, 2, 0],\n",
       "       [0, 0, 3]])"
      ]
     },
     "execution_count": 4,
     "metadata": {},
     "output_type": "execute_result"
    }
   ],
   "source": [
    "# Create an array of ones\n",
    "np.ones((3, 4))\n",
    "\n",
    "# Create an array of zeros\n",
    "np.zeros((2, 3, 4), dtype=np.int16)\n",
    "\n",
    "# Create an array with random values\n",
    "np.random.random((2, 2))\n",
    "\n",
    "# Create an empty array\n",
    "np.empty((3, 2))\n",
    "\n",
    "# Create a full array\n",
    "np.full((2, 2), 7)\n",
    "\n",
    "# Create an array of evenly-spaced values\n",
    "np.arange(10, 25, 5)\n",
    "\n",
    "# Create an array of evenly-spaced values\n",
    "np.linspace(0, 2, 9)\n",
    "\n",
    "# Create a diagonal matrix\n",
    "np.diag([1, 2, 3])"
   ]
  },
  {
   "cell_type": "markdown",
   "metadata": {},
   "source": [
    "#### Exercise \n",
    "\n",
    "Consider the vector [1, 2, 3, 4, 5], how to build a new vector with 3 consecutive zeros interleaved between each value?\n"
   ]
  },
  {
   "cell_type": "code",
   "execution_count": 7,
   "metadata": {},
   "outputs": [
    {
     "data": {
      "text/plain": [
       "array([ 1.,  0.,  0.,  0.,  2.,  0.,  0.,  0.,  3.,  0.,  0.,  0.,  4.,\n",
       "        0.,  0.,  0.,  5.,  0.,  0.,  0.])"
      ]
     },
     "execution_count": 7,
     "metadata": {},
     "output_type": "execute_result"
    }
   ],
   "source": [
    "a = np.arange(1,6)\n",
    "K = 3\n",
    "np.concatenate([a.reshape((-1,1)), np.zeros((a.shape[0], K))], axis=1).reshape(-1)"
   ]
  },
  {
   "cell_type": "markdown",
   "metadata": {},
   "source": [
    "### Индексация элементов массива"
   ]
  },
  {
   "cell_type": "code",
   "execution_count": 8,
   "metadata": {},
   "outputs": [
    {
     "name": "stdout",
     "output_type": "stream",
     "text": [
      "0 [3 9] [3 4 5 6 7 8 9] [6 7] [0 1 2 3 4 5 6]\n"
     ]
    }
   ],
   "source": [
    "a = np.arange(10)\n",
    "print(a[0], a[[3, -1]], a[3:], a[6: -2], a[:-3])"
   ]
  },
  {
   "cell_type": "code",
   "execution_count": 9,
   "metadata": {},
   "outputs": [
    {
     "name": "stdout",
     "output_type": "stream",
     "text": [
      "0 [0 1 0]\n"
     ]
    }
   ],
   "source": [
    "a = np.diag(np.arange(3))\n",
    "print(a[1, 2], a[1])"
   ]
  },
  {
   "cell_type": "code",
   "execution_count": 10,
   "metadata": {},
   "outputs": [
    {
     "name": "stdout",
     "output_type": "stream",
     "text": [
      "[False False  True False False  True False False  True False]\n",
      "[12 15 18]\n",
      "[10 11 -1 13 14 -1 16 17 -1 19]\n"
     ]
    }
   ],
   "source": [
    "a = np.arange(10, 20)\n",
    "mask = a % 3 == 0 \n",
    "print(mask) \n",
    "print(a[mask])\n",
    "\n",
    "a[mask] = -1\n",
    "print(a)"
   ]
  },
  {
   "cell_type": "markdown",
   "metadata": {},
   "source": [
    "#### Exercise\n",
    "\n",
    "Create a 8x8 matrix and fill it with a checkerboard pattern."
   ]
  },
  {
   "cell_type": "code",
   "execution_count": 76,
   "metadata": {},
   "outputs": [
    {
     "data": {
      "text/plain": [
       "array([[1, 0, 1, 0, 1, 0, 1, 0],\n",
       "       [0, 1, 0, 1, 0, 1, 0, 1],\n",
       "       [1, 0, 1, 0, 1, 0, 1, 0],\n",
       "       [0, 1, 0, 1, 0, 1, 0, 1],\n",
       "       [1, 0, 1, 0, 1, 0, 1, 0],\n",
       "       [0, 1, 0, 1, 0, 1, 0, 1],\n",
       "       [1, 0, 1, 0, 1, 0, 1, 0],\n",
       "       [0, 1, 0, 1, 0, 1, 0, 1]])"
      ]
     },
     "execution_count": 76,
     "metadata": {},
     "output_type": "execute_result"
    }
   ],
   "source": [
    "a = np.arange(1,9)\n",
    "np.tile(np.concatenate([a, 9-a]), 4).reshape((8, 8)) % 2"
   ]
  },
  {
   "cell_type": "markdown",
   "metadata": {},
   "source": [
    "### Арифметические операции выполняются поэлементно"
   ]
  },
  {
   "cell_type": "code",
   "execution_count": 77,
   "metadata": {},
   "outputs": [
    {
     "name": "stdout",
     "output_type": "stream",
     "text": [
      "[2 3 4]\n",
      "[2 4 8]\n",
      "[1 4 9]\n"
     ]
    }
   ],
   "source": [
    "a = np.arange(1, 4)\n",
    "print(a + 1)\n",
    "print(2**a)\n",
    "print(a**2)"
   ]
  },
  {
   "cell_type": "markdown",
   "metadata": {},
   "source": [
    "### Функции над массивами"
   ]
  },
  {
   "cell_type": "code",
   "execution_count": 78,
   "metadata": {},
   "outputs": [
    {
     "name": "stdout",
     "output_type": "stream",
     "text": [
      "6 [ 0.84147098  0.90929743  0.14112001] 2.0 0.816496580928\n",
      "4.5 [ 2.5  3.5  4.5  5.5  6.5]\n",
      "False True\n",
      "-1.04840513572 [-1.04840514 -0.41249802  0.05064238  0.24447632  0.91141517] [1 0 3 4 2]\n"
     ]
    }
   ],
   "source": [
    "a = np.array([1, 2, 3])\n",
    "print(np.sum(a), np.sin(a), np.mean(a), np.std(a))\n",
    "\n",
    "a=np.arange(10).reshape((2, 5))\n",
    "print(np.mean(a), np.mean(a, axis=0))\n",
    "\n",
    "a = np.zeros((100, 100)) \n",
    "print(np.any(a != 0) , np.all(a == 0))\n",
    "\n",
    "a = np.random.randn(5)\n",
    "print(np.min(a), np.sort(a), np.argsort(a))"
   ]
  },
  {
   "cell_type": "markdown",
   "metadata": {},
   "source": [
    "#### Exercise\n",
    "\n",
    "Generate a random 5x5 matrix. Subtract the mean of each row of a matrix."
   ]
  },
  {
   "cell_type": "code",
   "execution_count": 83,
   "metadata": {},
   "outputs": [
    {
     "data": {
      "text/plain": [
       "array([[-0.35170864, -0.2139546 , -0.06701392,  0.07781741, -0.1647403 ],\n",
       "       [ 0.05064473,  0.07873336,  0.37535402, -0.24653054,  0.35500754],\n",
       "       [ 0.35192111,  0.05771946, -0.34900844, -0.32672148, -0.30723219],\n",
       "       [-0.32951508,  0.32146341, -0.07711317, -0.06941247, -0.04999163],\n",
       "       [ 0.27865787, -0.24396162,  0.11778151,  0.56484707,  0.16695659]])"
      ]
     },
     "execution_count": 83,
     "metadata": {},
     "output_type": "execute_result"
    }
   ],
   "source": [
    "a = np.random.rand(5,5)\n",
    "a -= a.mean(axis=0)\n",
    "a"
   ]
  },
  {
   "cell_type": "markdown",
   "metadata": {},
   "source": [
    "### Сложение массивов"
   ]
  },
  {
   "cell_type": "code",
   "execution_count": 84,
   "metadata": {},
   "outputs": [
    {
     "name": "stdout",
     "output_type": "stream",
     "text": [
      "[[ 2.  7.]\n",
      " [ 2.  0.]]\n",
      "[[ 6.  7.]\n",
      " [ 0.  0.]]\n",
      "\n",
      "--Concatenate a and b--\n",
      "\n",
      "[[ 2.  7.]\n",
      " [ 2.  0.]\n",
      " [ 6.  7.]\n",
      " [ 0.  0.]]\n",
      "[[ 2.  7.  6.  7.]\n",
      " [ 2.  0.  0.  0.]]\n"
     ]
    }
   ],
   "source": [
    "a = np.floor(10 * np.random.rand(2, 2))\n",
    "print(a)\n",
    "\n",
    "b = np.floor(10 * np.random.rand(2, 2))\n",
    "print(b)\n",
    "\n",
    "print('\\n--Concatenate a and b--\\n')\n",
    "\n",
    "print(np.vstack((a, b))) # сложение по вертикали\n",
    "print(np.hstack((a, b))) # сложение по горизонтали"
   ]
  },
  {
   "cell_type": "markdown",
   "metadata": {},
   "source": [
    "### Array broadcasting\n",
    "Схема ниже показывает, как происходит скложение массивов. Если shape у массивов не совпадают, то массив меньшей размерности \"естественным образом\" дополняется до большей размерности."
   ]
  },
  {
   "cell_type": "markdown",
   "metadata": {},
   "source": [
    "![title](http://www.scipy-lectures.org/_images/numpy_broadcasting.png)"
   ]
  },
  {
   "cell_type": "code",
   "execution_count": 22,
   "metadata": {},
   "outputs": [
    {
     "name": "stdout",
     "output_type": "stream",
     "text": [
      "(3, 4) (4,)\n",
      "[[ 1.02100542  1.32549695  1.24321088  1.97304388]\n",
      " [ 1.02100542  1.32549695  1.24321088  1.97304388]\n",
      " [ 1.02100542  1.32549695  1.24321088  1.97304388]]\n"
     ]
    }
   ],
   "source": [
    "x = np.ones((3, 4))\n",
    "y = np.random.rand(4)\n",
    "\n",
    "# Add `x` and `y`. Note that `x` and `y` have different shapes.\n",
    "print(x.shape, y.shape)\n",
    "print(x + y)"
   ]
  },
  {
   "cell_type": "markdown",
   "metadata": {},
   "source": [
    "#### Exercise\n",
    "\n",
    "Создайте масив first_column из четырех элементов: 0, 10, 20, 30. Затем создайте двухмерный массив 4x5, в котором первый столбец - массив first_column, а каждый элемент каждой строки, начиная со второго,  больше предыдущего элемента этой же строки на 1."
   ]
  },
  {
   "cell_type": "code",
   "execution_count": 93,
   "metadata": {},
   "outputs": [
    {
     "data": {
      "text/plain": [
       "array([[ 0,  1,  2,  3,  4],\n",
       "       [10, 11, 12, 13, 14],\n",
       "       [20, 21, 22, 23, 24],\n",
       "       [30, 31, 32, 33, 34]])"
      ]
     },
     "execution_count": 93,
     "metadata": {},
     "output_type": "execute_result"
    }
   ],
   "source": [
    "first_column = 10 * np.arange(0,4)\n",
    "np.tile(first_column.reshape((-1,1)), 5) + np.arange(0,5)"
   ]
  },
  {
   "cell_type": "markdown",
   "metadata": {},
   "source": [
    "### Homework"
   ]
  },
  {
   "cell_type": "markdown",
   "metadata": {},
   "source": [
    "1. Создайте двумерный массив 10x3, заполненный случайными значениями. В каждой строке выберите значение, наиболее близкое к 0.5.\n",
    "\n",
    "1. Создайте двумерный массив 6x6, заполненный случайными значениями. Затем сумму по каждой строке поделите на минимальный элемент из столбца с тем же индексом.\n",
    "\n",
    "2. На примере массива x = np.array([6, 2, 0, 3, 0, 0, 5, 7, 0]) найдите максимальный элемент в массиве среди элементов, перед которыми стоит ноль.\n",
    "\n",
    "3. Пусть заданы два массива x = np.ones(10) и i = np.array([0, 1, 2, 3, 5, 5, 5, 8]). Прибавьте единицу к тем элементам массива x, индексы которых указаны в массиве i. В случае, если некоторый индекс встретился в массиве i несколько раз, прибавьте к соответствующему элементу массива x число вхождений данного индекса в массив i.\n",
    "\n",
    "4. По заданному двумерному массиву размера NxN постройте словарь, ключи которого - индексы диагоналей, параллельных побочной (нумерация начинается с 0), а значения - списки элементов исходного массива, лежащих на соответствующих диагоналях.\n",
    "Решите задачу на примере массива a = np.arange(16).reshape(4, 4), в результате должен получиться словарь\n",
    "{0: [0],\n",
    " 1: [1, 4],\n",
    " 2: [2, 5, 8],\n",
    " 3: [3, 6, 9, 12],\n",
    " 4: [7, 10, 13],\n",
    " 5: [11, 14],\n",
    " 6: [15]}."
   ]
  },
  {
   "cell_type": "code",
   "execution_count": 242,
   "metadata": {},
   "outputs": [
    {
     "name": "stdout",
     "output_type": "stream",
     "text": [
      "0.50075035983\n",
      "[  38.47123875    7.31227318    6.73038353    9.20424436   38.15761179\n",
      "  115.16002804]\n",
      "5\n",
      "[ 2.  2.  2.  2.  1.  4.  1.  1.  2.  1.]\n",
      "[[ 0  1  2  3]\n",
      " [ 4  5  6  7]\n",
      " [ 8  9 10 11]\n",
      " [12 13 14 15]]\n",
      "{7: [15], 6: [11, 14], 5: [7, 10, 13], 4: [3, 6, 9, 12], 3: [2, 5, 8], 2: [1, 4], 1: [0]}\n"
     ]
    }
   ],
   "source": [
    "# 1\n",
    "a = np.random.randn(10,3) / 100 + 0.5\n",
    "print(a.mean())\n",
    "# 2\n",
    "b = np.random.rand(6,6)\n",
    "print(b.sum(axis=1) / b.min(axis=0))\n",
    "# 3\n",
    "x = np.array([6, 2, 0, 3, 0, 0, 5, 7, 0])\n",
    "mask = np.roll(x==0, 1)\n",
    "mask[0] = False\n",
    "print(np.max(x[mask]))\n",
    "# 4\n",
    "x = np.ones(10)\n",
    "i = np.array([0, 1, 2, 3, 5, 5, 5, 8])\n",
    "x[np.min(i):np.max(i)+1] += np.bincount(i)\n",
    "print(x)\n",
    "# 5\n",
    "N = 4\n",
    "a = np.arange(N * N).reshape((N, N))\n",
    "print(a)\n",
    "def mask(i):\n",
    "    return (np.tri(N, N, i) + np.tri(N, N, -i).T) - 1\n",
    "d = {2 * N - 1 - i : list(a[:,::-1][mask(i-3)==1]) for i in range(2 * N - 1)}\n",
    "print(d)"
   ]
  }
 ],
 "metadata": {
  "anaconda-cloud": {},
  "kernelspec": {
   "display_name": "Python3.6",
   "language": "python",
   "name": "py36"
  },
  "language_info": {
   "codemirror_mode": {
    "name": "ipython",
    "version": 3
   },
   "file_extension": ".py",
   "mimetype": "text/x-python",
   "name": "python",
   "nbconvert_exporter": "python",
   "pygments_lexer": "ipython3",
   "version": "3.6.2"
  }
 },
 "nbformat": 4,
 "nbformat_minor": 1
}
