{
 "cells": [
  {
   "cell_type": "code",
   "execution_count": 112,
   "metadata": {},
   "outputs": [],
   "source": [
    "import sklearn\n",
    "from sklearn.model_selection import train_test_split, cross_val_score\n",
    "import numpy as np\n",
    "import matplotlib.pyplot as plt"
   ]
  },
  {
   "cell_type": "code",
   "execution_count": 152,
   "metadata": {},
   "outputs": [],
   "source": [
    "def add_noise(f, sigma=0.02):\n",
    "    # data with noise\n",
    "    def tmp(x):\n",
    "        return f(x) + np.random.normal(scale=sigma)\n",
    "    tmp.w = f.w\n",
    "    return tmp\n",
    "    \n",
    "def generate_poly_fn(degree=1):\n",
    "    # prior data\n",
    "    '''\n",
    "    @degree : the degree of polynom to generate\n",
    "    @return : function which generate polynom\n",
    "    '''\n",
    "    \n",
    "    w = np.random.rand(degree + 1) - 0.5\n",
    "    a = np.arange(0, degree + 1)\n",
    "    def tmp(x):\n",
    "        return np.sum(w * (x ** a))\n",
    "    tmp.w = w\n",
    "    return tmp"
   ]
  },
  {
   "cell_type": "code",
   "execution_count": 153,
   "metadata": {},
   "outputs": [
    {
     "data": {
      "image/png": "[encoded data removed]",
      "text/plain": [
       "<matplotlib.figure.Figure at 0x7f7dea595080>"
      ]
     },
     "metadata": {},
     "output_type": "display_data"
    }
   ],
   "source": [
    "f = add_noise(generate_poly_fn(degree=2))\n",
    "x = np.linspace(-1, 1, 400)\n",
    "y = np.apply_along_axis(f, 1, x.reshape((-1,1)))\n",
    "plt.plot(x, y)\n",
    "plt.show()"
   ]
  },
  {
   "cell_type": "code",
   "execution_count": 154,
   "metadata": {},
   "outputs": [],
   "source": [
    "def generate_poly_data(f, degree=1, a=-10, b=10, N=10000):\n",
    "    d = np.arange(0, degree + 1).reshape((1, -1))\n",
    "    X = np.linspace(a, b, N).reshape((-1, 1))\n",
    "    y = np.apply_along_axis(f, 1, X)\n",
    "    return X**d, y"
   ]
  },
  {
   "cell_type": "code",
   "execution_count": 155,
   "metadata": {},
   "outputs": [],
   "source": [
    "from sklearn.linear_model import LinearRegression, Ridge, Lasso\n",
    "from sklearn.metrics import mean_squared_error, mean_absolute_error"
   ]
  },
  {
   "cell_type": "code",
   "execution_count": 156,
   "metadata": {},
   "outputs": [],
   "source": [
    "f = add_noise(generate_poly_fn())\n",
    "X, y = generate_poly_data(f)\n",
    "X_train, X_test, y_train, y_test = train_test_split(X, y)"
   ]
  },
  {
   "cell_type": "code",
   "execution_count": 157,
   "metadata": {},
   "outputs": [
    {
     "name": "stdout",
     "output_type": "stream",
     "text": [
      "(7500, 2) (7500,) (2500, 2) (2500,)\n"
     ]
    }
   ],
   "source": [
    "print(X_train.shape, y_train.shape, X_test.shape, y_test.shape)"
   ]
  },
  {
   "cell_type": "markdown",
   "metadata": {},
   "source": [
    "# Example"
   ]
  },
  {
   "cell_type": "code",
   "execution_count": 158,
   "metadata": {},
   "outputs": [
    {
     "data": {
      "text/plain": [
       "(0.016059321267399753, 0.0003969254528052664)"
      ]
     },
     "execution_count": 158,
     "metadata": {},
     "output_type": "execute_result"
    }
   ],
   "source": [
    "regr = Ridge(alpha=1)\n",
    "regr.fit(X_train, y_train)\n",
    "y_pred = regr.predict(X_test)\n",
    "mean_absolute_error(y_test, y_pred), mean_squared_error(y_test, y_pred)"
   ]
  },
  {
   "cell_type": "markdown",
   "metadata": {},
   "source": [
    "# Exercises"
   ]
  },
  {
   "cell_type": "markdown",
   "metadata": {},
   "source": [
    "1) for all alpha in range (0, 1) train Ridge, Lasso on data"
   ]
  },
  {
   "cell_type": "markdown",
   "metadata": {},
   "source": [
    "2) crossvalidation http://scikit-learn.org/stable/modules/generated/sklearn.model_selection.cross_val_score.html"
   ]
  },
  {
   "cell_type": "markdown",
   "metadata": {},
   "source": [
    "3) we have two degree variable: degree of data and degree of prior model, experiment with its parameters\n",
    "    1. How regulariazation affect on data_degree < model_degree\n",
    "    2. How regulariazation affect on data_degree == model_degree\n",
    "    3. Compare coefficients of regression and prior data"
   ]
  },
  {
   "cell_type": "code",
   "execution_count": 159,
   "metadata": {},
   "outputs": [
    {
     "name": "stdout",
     "output_type": "stream",
     "text": [
      "Ridge(alpha=0.001, copy_X=True, fit_intercept=True, max_iter=None,\n",
      "   normalize=False, random_state=None, solver='auto', tol=0.001)\n",
      "abs err: 0.016059, square err: 0.000397\n",
      "Ridge(alpha=0.112, copy_X=True, fit_intercept=True, max_iter=None,\n",
      "   normalize=False, random_state=None, solver='auto', tol=0.001)\n",
      "abs err: 0.016059, square err: 0.000397\n",
      "Ridge(alpha=0.223, copy_X=True, fit_intercept=True, max_iter=None,\n",
      "   normalize=False, random_state=None, solver='auto', tol=0.001)\n",
      "abs err: 0.016059, square err: 0.000397\n",
      "Ridge(alpha=0.334, copy_X=True, fit_intercept=True, max_iter=None,\n",
      "   normalize=False, random_state=None, solver='auto', tol=0.001)\n",
      "abs err: 0.016059, square err: 0.000397\n",
      "Ridge(alpha=0.445, copy_X=True, fit_intercept=True, max_iter=None,\n",
      "   normalize=False, random_state=None, solver='auto', tol=0.001)\n",
      "abs err: 0.016059, square err: 0.000397\n",
      "Ridge(alpha=0.556, copy_X=True, fit_intercept=True, max_iter=None,\n",
      "   normalize=False, random_state=None, solver='auto', tol=0.001)\n",
      "abs err: 0.016059, square err: 0.000397\n",
      "Ridge(alpha=0.667, copy_X=True, fit_intercept=True, max_iter=None,\n",
      "   normalize=False, random_state=None, solver='auto', tol=0.001)\n",
      "abs err: 0.016059, square err: 0.000397\n",
      "Ridge(alpha=0.778, copy_X=True, fit_intercept=True, max_iter=None,\n",
      "   normalize=False, random_state=None, solver='auto', tol=0.001)\n",
      "abs err: 0.016059, square err: 0.000397\n",
      "Ridge(alpha=0.889, copy_X=True, fit_intercept=True, max_iter=None,\n",
      "   normalize=False, random_state=None, solver='auto', tol=0.001)\n",
      "abs err: 0.016059, square err: 0.000397\n",
      "Ridge(alpha=1.0, copy_X=True, fit_intercept=True, max_iter=None,\n",
      "   normalize=False, random_state=None, solver='auto', tol=0.001)\n",
      "abs err: 0.016059, square err: 0.000397\n",
      "Lasso(alpha=0.001, copy_X=True, fit_intercept=True, max_iter=1000,\n",
      "   normalize=False, positive=False, precompute=False, random_state=None,\n",
      "   selection='cyclic', tol=0.0001, warm_start=False)\n",
      "abs err: 0.016057, square err: 0.000397\n",
      "Lasso(alpha=0.112, copy_X=True, fit_intercept=True, max_iter=1000,\n",
      "   normalize=False, positive=False, precompute=False, random_state=None,\n",
      "   selection='cyclic', tol=0.0001, warm_start=False)\n",
      "abs err: 0.022250, square err: 0.000759\n",
      "Lasso(alpha=0.223, copy_X=True, fit_intercept=True, max_iter=1000,\n",
      "   normalize=False, positive=False, precompute=False, random_state=None,\n",
      "   selection='cyclic', tol=0.0001, warm_start=False)\n",
      "abs err: 0.035786, square err: 0.001843\n",
      "Lasso(alpha=0.334, copy_X=True, fit_intercept=True, max_iter=1000,\n",
      "   normalize=False, positive=False, precompute=False, random_state=None,\n",
      "   selection='cyclic', tol=0.0001, warm_start=False)\n",
      "abs err: 0.051094, square err: 0.003648\n",
      "Lasso(alpha=0.445, copy_X=True, fit_intercept=True, max_iter=1000,\n",
      "   normalize=False, positive=False, precompute=False, random_state=None,\n",
      "   selection='cyclic', tol=0.0001, warm_start=False)\n",
      "abs err: 0.066963, square err: 0.006174\n",
      "Lasso(alpha=0.556, copy_X=True, fit_intercept=True, max_iter=1000,\n",
      "   normalize=False, positive=False, precompute=False, random_state=None,\n",
      "   selection='cyclic', tol=0.0001, warm_start=False)\n",
      "abs err: 0.083031, square err: 0.009421\n",
      "Lasso(alpha=0.667, copy_X=True, fit_intercept=True, max_iter=1000,\n",
      "   normalize=False, positive=False, precompute=False, random_state=None,\n",
      "   selection='cyclic', tol=0.0001, warm_start=False)\n",
      "abs err: 0.099214, square err: 0.013389\n",
      "Lasso(alpha=0.778, copy_X=True, fit_intercept=True, max_iter=1000,\n",
      "   normalize=False, positive=False, precompute=False, random_state=None,\n",
      "   selection='cyclic', tol=0.0001, warm_start=False)\n",
      "abs err: 0.115464, square err: 0.018079\n",
      "Lasso(alpha=0.889, copy_X=True, fit_intercept=True, max_iter=1000,\n",
      "   normalize=False, positive=False, precompute=False, random_state=None,\n",
      "   selection='cyclic', tol=0.0001, warm_start=False)\n",
      "abs err: 0.131745, square err: 0.023490\n",
      "Lasso(alpha=1.0, copy_X=True, fit_intercept=True, max_iter=1000,\n",
      "   normalize=False, positive=False, precompute=False, random_state=None,\n",
      "   selection='cyclic', tol=0.0001, warm_start=False)\n",
      "abs err: 0.148047, square err: 0.029622\n"
     ]
    }
   ],
   "source": [
    "models = [Ridge, Lasso]\n",
    "for model in models:\n",
    "    for alpha in np.linspace(0.001, 1, 10):\n",
    "        regr = model(alpha=alpha)\n",
    "        regr.fit(X_train, y_train)\n",
    "        y_pred = regr.predict(X_test)\n",
    "        print(regr)\n",
    "        print(\"abs err: %f, square err: %f\" % (mean_absolute_error(y_test, y_pred), mean_squared_error(y_test, y_pred)))"
   ]
  },
  {
   "cell_type": "code",
   "execution_count": 163,
   "metadata": {},
   "outputs": [
    {
     "name": "stdout",
     "output_type": "stream",
     "text": [
      "[0.99648973 0.99635608 0.99641437]\n",
      "[0.61712894 0.99501708 0.61423729]\n"
     ]
    }
   ],
   "source": [
    "print(cross_val_score(Ridge(0.3), X, y))\n",
    "print(cross_val_score(Lasso(0.3), X, y))"
   ]
  },
  {
   "cell_type": "code",
   "execution_count": 167,
   "metadata": {},
   "outputs": [
    {
     "name": "stdout",
     "output_type": "stream",
     "text": [
      "Ridge(alpha=0.1, copy_X=True, fit_intercept=True, max_iter=None,\n",
      "   normalize=False, random_state=None, solver='auto', tol=0.001)\n",
      "0.3625510219166401 [ 0.         -0.17307729] [ 0.36207442 -0.17297912]\n",
      "Lasso(alpha=0.1, copy_X=True, fit_intercept=True, max_iter=1000,\n",
      "   normalize=False, positive=False, precompute=False, random_state=None,\n",
      "   selection='cyclic', tol=0.0001, warm_start=False)\n",
      "0.3625411036653745 [ 0.         -0.17009256] [ 0.36207442 -0.17297912]\n"
     ]
    }
   ],
   "source": [
    "for model in models:\n",
    "    regr = model(alpha=0.1)\n",
    "    regr.fit(X_train, y_train)\n",
    "    print(regr)\n",
    "    print(regr.intercept_, regr.coef_, f.w)"
   ]
  },
  {
   "cell_type": "markdown",
   "metadata": {},
   "source": []
  }
 ],
 "metadata": {
  "kernelspec": {
   "display_name": "Python [conda env:py36]",
   "language": "python",
   "name": "conda-env-py36-py"
  },
  "language_info": {
   "codemirror_mode": {
    "name": "ipython",
    "version": 3
   },
   "file_extension": ".py",
   "mimetype": "text/x-python",
   "name": "python",
   "nbconvert_exporter": "python",
   "pygments_lexer": "ipython3",
   "version": "3.6.3"
  }
 },
 "nbformat": 4,
 "nbformat_minor": 2
}
